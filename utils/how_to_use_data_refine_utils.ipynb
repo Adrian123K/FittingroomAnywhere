{
 "cells": [
  {
   "cell_type": "markdown",
   "metadata": {},
   "source": [
    "# data_refine_utils 라이브러리를 이용하는 방법\n",
    "본 문서에서는 data_refine_utils.py 를 이용하는 방법을 다룹니다.<br>\n",
    "우리 프로젝트에 맞게 만든 라이브러리이므로 유용하게 사용하세요."
   ]
  },
  {
   "cell_type": "code",
   "execution_count": 19,
   "metadata": {},
   "outputs": [],
   "source": [
    "import data_refine_utils as dutils\n",
    "\n",
    "# DeepFashion2의 validation dataset 경로\n",
    "original_path_img = \"C:/Users/chief/[2]FittingroomAnywhere2/dataset/DeepFashion_original/DeepFashion2/validation/validation//image\"\n",
    "original_path_anno = \"C:/Users/chief/[2]FittingroomAnywhere2/dataset/DeepFashion_original/DeepFashion2/validation/validation/annos\"\n",
    "\n",
    "# DeepFashion2의 train dataset 경로\n",
    "original_train_img = \"C:/Users/chief/[2]FittingroomAnywhere2/dataset/DeepFashion_original/DeepFashion2/train/train/image/\"\n",
    "original_train_anno = \"C:/Users/chief/[2]FittingroomAnywhere2/dataset/DeepFashion_original/DeepFashion2/train/train/annos/\"\n",
    "\n",
    "# T-shirt(short sleeve top)만 모아둘 경로\n",
    "selected_img_path = 'C:/Users/chief/[2]FittingroomAnywhere2/Mask_RCNN/datasets/Tshirt_dataset/all_images/'\n",
    "selected_anno_path = 'C:/Users/chief/[2]FittingroomAnywhere2/Mask_RCNN/datasets/Tshirt_dataset/all_annos/'\n",
    "\n",
    "# T-shirt(short sleeve top)이미지 파일명이 저장된 JSON 파일 경로\n",
    "img_json_path = 'C:/Users/chief/[2]FittingroomAnywhere2/Mask_RCNN/datasets/Tshirt_dataset/division_Tshirts.json'\n",
    "\n"
   ]
  },
  {
   "cell_type": "code",
   "execution_count": 18,
   "metadata": {},
   "outputs": [],
   "source": [
    "# JSON 파일 안에 나열된 이미지파일들을\n",
    "# from_path에서 to_path로 copy & paste 한다.\n",
    "dutils.img_copy_by_json(original_train_img, selected_img_path, img_json_path)"
   ]
  },
  {
   "cell_type": "code",
   "execution_count": 20,
   "metadata": {},
   "outputs": [],
   "source": [
    "# dir_path 안에 있는 모든 이미지 파일명들을 담은 JSON 파일을 생성\n",
    "dutils.img_filenames_to_json(selected_img_path, img_json_path)"
   ]
  },
  {
   "cell_type": "code",
   "execution_count": 23,
   "metadata": {},
   "outputs": [],
   "source": [
    "# selected_img_path 안의 이미지에 해당하는 annotation 파일을\n",
    "# original_path_anno에서 selected_anno_path로 copy & paste한다.\n",
    "t_val_anno = 'C:/Users/chief/[2]FittingroomAnywhere2/Mask_RCNN/datasets/Tshirt_dataset/t_val_anno'\n",
    "t_val_img = 'C:/Users/chief/[2]FittingroomAnywhere2/Mask_RCNN/datasets/Tshirt_dataset/t_val_img'\n",
    "t_train_anno = 'C:/Users/chief/[2]FittingroomAnywhere2/Mask_RCNN/datasets/Tshirt_dataset/t_train_anno'\n",
    "t_train_img = 'C:/Users/chief/[2]FittingroomAnywhere2/Mask_RCNN/datasets/Tshirt_dataset/t_train_img'\n",
    "\n",
    "dutils.anno_copy_by_img(t_train_img, selected_anno_path, t_train_anno)\n",
    "dutils.anno_copy_by_img(t_val_img, selected_anno_path, t_val_anno)\n"
   ]
  },
  {
   "cell_type": "code",
   "execution_count": null,
   "metadata": {},
   "outputs": [],
   "source": [
    "# DeepFashion2 selected annotation 파일들이 있는 디렉토리에서\n",
    "# 최대 item2까지 확인하여 category_id를 포함하지\n",
    "# 않는 파일명을 출력 및 리스트로 리턴한다.\n",
    "Tshirts = dutils.contains_category_filenames(original_train_anno, category_id=1)"
   ]
  },
  {
   "cell_type": "code",
   "execution_count": 12,
   "metadata": {},
   "outputs": [],
   "source": [
    "import shutil\n",
    "\n",
    "for data in Tshirts:\n",
    "    shutil.copy(original_train_img + data[0].replace(\".json\", \".jpg\"), selected_img_path + data[0].replace(\".json\", \".jpg\"))\n"
   ]
  },
  {
   "cell_type": "code",
   "execution_count": null,
   "metadata": {},
   "outputs": [],
   "source": [
    "# DeepFashion2 selected annotation 파일들이 있는 디렉토리에서\n",
    "# 최대 item2까지 확인하여 category_id를 포함하지\n",
    "# 않는 파일명을 출력 및 리스트로 리턴한다.\n",
    "dutils.not_contains_category_filenames(selected_anno_path, category_id=1)"
   ]
  },
  {
   "cell_type": "code",
   "execution_count": 24,
   "metadata": {},
   "outputs": [],
   "source": [
    "# DeepFashion2의 COCO anno 를 Mask R-CNN의 VIA anno로 변환.\n",
    "# 특정 카테고리의 하나의 인스턴스에 대해서만 작동함.\n",
    "# anno_dir : DeepFashion2의 selected annotation 파일이 있는 directory\n",
    "# image_dir : DeepFashion2의 selected image 파일이 있는 directory\n",
    "# category_id : 추출하고자 하는 category_id\n",
    "# save_anno_dir : 변환한 annotation을 저장할 directory\n",
    "t_val_anno = 'C:/Users/chief/[2]FittingroomAnywhere2/Mask_RCNN/datasets/Tshirt_dataset/t_val_anno'\n",
    "t_val_img = 'C:/Users/chief/[2]FittingroomAnywhere2/Mask_RCNN/datasets/Tshirt_dataset/t_val_img'\n",
    "t_train_anno = 'C:/Users/chief/[2]FittingroomAnywhere2/Mask_RCNN/datasets/Tshirt_dataset/t_train_anno'\n",
    "t_train_img = 'C:/Users/chief/[2]FittingroomAnywhere2/Mask_RCNN/datasets/Tshirt_dataset/t_train_img'\n",
    "dutils.COCO_to_VIA(anno_dir=t_train_anno, image_dir=t_train_img, category_id=1, save_anno_dir=t_train_img)\n",
    "dutils.COCO_to_VIA(anno_dir=t_val_anno, image_dir=t_val_img, category_id=1, save_anno_dir=t_val_img)"
   ]
  },
  {
   "cell_type": "code",
   "execution_count": null,
   "metadata": {},
   "outputs": [],
   "source": [
    "# train, val 나누기\n",
    "train_path_img = 'C:/Users/chief/[2]FittingroomAnywhere2/Mask_RCNN/datasets/Tshirt_dataset/train/img'\n",
    "train_path_anno = 'C:/Users/chief/[2]FittingroomAnywhere2/Mask_RCNN/datasets/Tshirt_dataset/train/anno'\n",
    "val_path_img = 'C:/Users/chief/[2]FittingroomAnywhere2/Mask_RCNN/datasets/Tshirt_dataset/val/img'\n",
    "val_path_anno = 'C:/Users/chief/[2]FittingroomAnywhere2/Mask_RCNN/datasets/Tshirt_dataset/val/anno'\n",
    "\n",
    "# train set\n",
    "dutils.anno_copy_by_img(train_path_img, original_path_anno, train_path_anno)\n",
    "dutils.COCO_to_VIA(anno_dir=train_path_anno, image_dir=train_path_img, category_id=1, save_anno_dir=train_path_anno, mode=\"segmentation\")\n",
    "# test set\n",
    "dutils.anno_copy_by_img(val_path_img, original_path_anno, val_path_anno)\n",
    "dutils.COCO_to_VIA(anno_dir=val_path_anno, image_dir=val_path_img, category_id=1, save_anno_dir=val_path_anno, mode=\"segmentation\")"
   ]
  },
  {
   "cell_type": "code",
   "execution_count": null,
   "metadata": {},
   "outputs": [],
   "source": []
  }
 ],
 "metadata": {
  "kernelspec": {
   "display_name": "Python 3",
   "language": "python",
   "name": "python3"
  },
  "language_info": {
   "codemirror_mode": {
    "name": "ipython",
    "version": 3
   },
   "file_extension": ".py",
   "mimetype": "text/x-python",
   "name": "python",
   "nbconvert_exporter": "python",
   "pygments_lexer": "ipython3",
   "version": "3.6.5"
  }
 },
 "nbformat": 4,
 "nbformat_minor": 2
}
