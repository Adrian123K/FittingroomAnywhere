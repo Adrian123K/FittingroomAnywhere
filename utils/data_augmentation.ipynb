{
 "cells": [
  {
   "cell_type": "markdown",
   "metadata": {},
   "source": [
    "Data Augmentation\n",
    "==========="
   ]
  },
  {
   "cell_type": "markdown",
   "metadata": {},
   "source": [
    "Image Translation\n",
    "--------"
   ]
  },
  {
   "cell_type": "code",
   "execution_count": null,
   "metadata": {},
   "outputs": [],
   "source": [
    "import PIL\n",
    "from PIL import Image\n",
    "import os\n",
    "import glob\n",
    "import tensorflow as tf\n",
    "import numpy as np\n",
    "\n",
    "DIR_PATH = 'aug_images/white2blue2/'\n",
    "\n",
    "# 시간 많이 걸림 주의!!\n",
    "def tf_image_translate(tx, ty, interpolation='NEAREST', DIR_PATH = DIR_PATH):\n",
    "    transforms = [1, 0, -tx, 0, 1, -ty, 0, 0]\n",
    "\n",
    "    with tf.Session() as sess:\n",
    "        for dir in ['trainA', 'trainB']:\n",
    "            print('Total', len(os.listdir(DIR_PATH + dir)), 'images in', dir)\n",
    "            for i, filename in enumerate(glob.glob(DIR_PATH + dir + '/*')):\n",
    "                image = Image.open(filename)\n",
    "                translation_op = tf.contrib.image.transform(image, transforms, interpolation)\n",
    "                translated_images = sess.run(translation_op)\n",
    "                im = Image.fromarray(translated_images)\n",
    "                im.save(DIR_PATH + dir + '/' + str(i+1) + '_trans.jpg')\n",
    "                if (i+1) % 50 == 0:\n",
    "                    print(str(i+1), 'image translantion done')\n",
    "            print(str(i+1), 'translated images generated!')\n",
    "            print('Total', len(os.listdir(DIR_PATH + dir)), 'images in', dir, '\\n')\n",
    "    \n",
    "tf_image_translate(tx=20, ty=20, interpolation='NEAREST', DIR_PATH = DIR_PATH)"
   ]
  },
  {
   "cell_type": "markdown",
   "metadata": {},
   "source": [
    "Flip Images Left to Right\n",
    "---------"
   ]
  },
  {
   "cell_type": "code",
   "execution_count": null,
   "metadata": {},
   "outputs": [],
   "source": [
    "import PIL\n",
    "from PIL import Image\n",
    "import os\n",
    "import glob\n",
    "import tensorflow as tf\n",
    "import numpy as np\n",
    "\n",
    "# PATH 부분만 수정!\n",
    "DIR_PATH = 'aug_images/white2blue2/'\n",
    "\n",
    "# 여러 번 돌리면 flipped image가 중복되서 생성되므로 주의!\n",
    "def flip_left_to_right(DIR_PATH=DIR_PATH):\n",
    "    for dir in ['trainA', 'trainB']:\n",
    "        print('Total', len(os.listdir(DIR_PATH + dir)), 'images in', dir)\n",
    "        for i, filename in enumerate(glob.glob(DIR_PATH + dir + '/*')):\n",
    "            im = Image.open(filename)\n",
    "            out = im.transpose(PIL.Image.FLIP_LEFT_RIGHT)\n",
    "            out.save(DIR_PATH + dir + '/'+ str(i+1) + '_flip_left_right.jpg')   \n",
    "        print(str(i+1), 'flipped images generated!')\n",
    "        print('Total', len(os.listdir(DIR_PATH + dir)), 'images in', dir, '\\n')\n",
    "\n",
    "flip_left_to_right()"
   ]
  },
  {
   "cell_type": "code",
   "execution_count": null,
   "metadata": {},
   "outputs": [],
   "source": []
  }
 ],
 "metadata": {
  "kernelspec": {
   "display_name": "Python 3",
   "language": "python",
   "name": "python3"
  },
  "language_info": {
   "codemirror_mode": {
    "name": "ipython",
    "version": 3
   },
   "file_extension": ".py",
   "mimetype": "text/x-python",
   "name": "python",
   "nbconvert_exporter": "python",
   "pygments_lexer": "ipython3",
   "version": "3.6.8"
  }
 },
 "nbformat": 4,
 "nbformat_minor": 4
}
