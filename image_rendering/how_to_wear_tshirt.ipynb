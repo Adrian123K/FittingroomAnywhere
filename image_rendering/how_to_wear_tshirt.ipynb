{
 "cells": [
  {
   "cell_type": "markdown",
   "metadata": {},
   "source": [
    "# How to wear Tshirt\n",
    "이 코드는 생성된 옷 이미지 x 마스크 = 옷 부분만 잘라내어, 원본 이미지에 생성된 옷을 입히는 내용을 다룹니다.<br>\n",
    "전체 모델 파이프라인의 가장 마지막 부분입니다.<br>\n",
    "원래는 원본 이미지에서 옷 부분만 인식하여 마스크를 생성하는 segmentation network와,<br>\n",
    "옷을 생성해내는 generate network가 있어야 하지만,<br>\n",
    "있다고 가정하고 마스크를 미리 만들어서 진행합니다.<br>\n",
    "아래 구현 내용은 image_rendering.py 파일에 저장되어, 다른 파일에서 import하여 사용가능합니다."
   ]
  },
  {
   "cell_type": "code",
   "execution_count": 37,
   "metadata": {},
   "outputs": [],
   "source": [
    "DIR = 'C:/Users/chief/FittingroomAnywhere/image_rendering/sample/'\n",
    "original_img = DIR + 'black_t.jpg'\n",
    "generated_tshirt = DIR + 'striped_t.jpg'\n",
    "#mask = ''\n",
    "output_img = DIR + 'output.jpg'"
   ]
  },
  {
   "cell_type": "code",
   "execution_count": 45,
   "metadata": {},
   "outputs": [
    {
     "name": "stdout",
     "output_type": "stream",
     "text": [
      "(789, 750, 3)\n",
      "(789, 750, 3)\n"
     ]
    }
   ],
   "source": [
    "# Create Mask\n",
    "import cv2\n",
    "import numpy as np\n",
    "\n",
    "DIR = 'C:/Users/chief/FittingroomAnywhere/image_rendering/sample/'\n",
    "seg = DIR + 'seg_striped_t.jpg'\n",
    "\n",
    "im = cv2.imread(seg)\n",
    "print(im.shape)\n",
    "\n",
    "mask = [[] for ii in im]\n",
    "\n",
    "for i in range(len(im)):\n",
    "    for j in range(len(im[0])):\n",
    "        if(sum(im[i][j]==[1,2,2])==3):\n",
    "            mask[i].append([False, False, False])\n",
    "        else:\n",
    "            mask[i].append([True, True, True])\n",
    "               \n",
    "print(np.array(mask).shape)"
   ]
  },
  {
   "cell_type": "code",
   "execution_count": 49,
   "metadata": {},
   "outputs": [],
   "source": [
    "generated = cv2.imread(generated_tshirt)\n",
    "segmented = (mask*generated)\n",
    "cv2.imshow(\"segmented\", segmented)\n",
    "cv2.waitKey(0)\n",
    "cv2.destroyAllWindows()"
   ]
  },
  {
   "cell_type": "code",
   "execution_count": null,
   "metadata": {},
   "outputs": [],
   "source": []
  }
 ],
 "metadata": {
  "kernelspec": {
   "display_name": "Python 3",
   "language": "python",
   "name": "python3"
  },
  "language_info": {
   "codemirror_mode": {
    "name": "ipython",
    "version": 3
   },
   "file_extension": ".py",
   "mimetype": "text/x-python",
   "name": "python",
   "nbconvert_exporter": "python",
   "pygments_lexer": "ipython3",
   "version": "3.6.5"
  }
 },
 "nbformat": 4,
 "nbformat_minor": 2
}
