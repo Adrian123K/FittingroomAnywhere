{
 "cells": [
  {
   "cell_type": "code",
   "execution_count": 2,
   "metadata": {},
   "outputs": [
    {
     "name": "stdout",
     "output_type": "stream",
     "text": [
      "C:\\Users\\chief\\FittingroomAnywhere\n",
      "C:\\Users\\chief\\FittingroomAnywhere\\Presentation\\img\\190730\n"
     ]
    }
   ],
   "source": [
    "# -*- coding: utf-8 -*- \n",
    "import sys \n",
    "from os import rename, listdir \n",
    "import os\n",
    "\n",
    "# current working directory\n",
    "print(os.getcwd())\n",
    "# change directory\n",
    "os.chdir('C:/Users/chief/FittingroomAnywhere/Presentation/img/190730')\n",
    "# current working directory\n",
    "print(os.getcwd())\n",
    "\n",
    "# 파일 목록\n",
    "files = listdir('C:/Users/chief/FittingroomAnywhere/Presentation/img/190730') \n",
    "\n",
    "# 파일명에 번호 추가하기 \n",
    "count = 0\n",
    "name = 'slide '\n",
    "for name in files: \n",
    "    # 파이썬 실행파일명은 변경하지 않음 \n",
    "    if sys.argv[0].split(\"\\\\\")[-1] == name: \n",
    "        continue \n",
    "    new_name = name.replace(name[5:], \"\") + \"{0:03d}.jpg\".format(count)\n",
    "    #print(new_name)\n",
    "    rename(name,new_name) \n",
    "    count += 1"
   ]
  },
  {
   "cell_type": "code",
   "execution_count": null,
   "metadata": {},
   "outputs": [],
   "source": []
  }
 ],
 "metadata": {
  "kernelspec": {
   "display_name": "Python 3",
   "language": "python",
   "name": "python3"
  },
  "language_info": {
   "codemirror_mode": {
    "name": "ipython",
    "version": 3
   },
   "file_extension": ".py",
   "mimetype": "text/x-python",
   "name": "python",
   "nbconvert_exporter": "python",
   "pygments_lexer": "ipython3",
   "version": "3.6.5"
  }
 },
 "nbformat": 4,
 "nbformat_minor": 2
}
