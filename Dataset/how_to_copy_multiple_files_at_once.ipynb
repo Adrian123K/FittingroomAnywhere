{
 "cells": [
  {
   "cell_type": "markdown",
   "metadata": {},
   "source": [
    "# Json 파일을 통해 이미지 한꺼번에 복사 붙여넣기"
   ]
  },
  {
   "cell_type": "code",
   "execution_count": 2,
   "metadata": {},
   "outputs": [],
   "source": [
    "import json\n",
    "import shutil\n",
    "import os\n",
    "\n",
    "# author: @herbwood (Github) \n",
    "\"\"\"\n",
    "from_path : 전체 validation 이미지가 있는 디렉터리 path\n",
    "to_path : 본인 파트 이미지만 옮기고 싶은 디렉터리 path\n",
    "\n",
    "# 아래 명령어(mkdir = make directory 줄임말)로 새 폴더 생성 가능\n",
    "os.mkdir(to_path)\n",
    "\n",
    "json_path : 이미지 파일명을 가지고 있는 json 파일 path\n",
    "name : 본인 성\n",
    "\"\"\"\n",
    "\n",
    "from_path = \"C:/Users/chief/FittingroomAnywhere/Segmentation/dataset/DeepFashion2/validation/validation/image\"\n",
    "to_path = 'C:/Users/chief/FittingroomAnywhere/Dataset/DeepFashion_Tshirt/image'\n",
    "json_path = 'Tshirt_selected_filenames.json'\n",
    "names = ['Park', 'Woo', 'Hwang']\n",
    "\n",
    "# images 파일명이 있는 json 파일 읽어들이기\n",
    "with open(json_path) as json_file:\n",
    "    json_data = json.load(json_file)\n",
    "\n",
    "# 주석 풀고 본인 파트 이미지 파일명 일부만 확인해보기\n",
    "# print(json_data[name][:10])\n",
    "\n",
    "# 이미지 파일을 원하는 디렉터리로 복사하기\n",
    "for n in names:\n",
    "    for data in json_data[n]:\n",
    "        shutil.copy(from_path + '/' + data, \n",
    "                    to_path + '/' + data)"
   ]
  },
  {
   "cell_type": "markdown",
   "metadata": {},
   "source": [
    "# 참고: 디렉토리 안의 파일명을 리스트로 불러와서 json파일로 저장하기"
   ]
  },
  {
   "cell_type": "code",
   "execution_count": 3,
   "metadata": {},
   "outputs": [],
   "source": [
    "import os\n",
    "your_image_path = 'C:/Users/chief/FittingroomAnywhere/Segmentation/dataset/DeepFashion2/validation/validation/image/short_sleeve_shirt'\n",
    "# path에 있는 이미지 파일 이름들 뽑아오기\n",
    "data = os.listdir(your_image_path)\n",
    "\n",
    "import json\n",
    "# json파일로 저장\n",
    "with open('image.json', 'w') as f:\n",
    "    json.dump(data, f)\n"
   ]
  },
  {
   "cell_type": "markdown",
   "metadata": {},
   "source": [
    "# 이미지에 해당하는 annotation json 파일 복사 붙여넣기"
   ]
  },
  {
   "cell_type": "code",
   "execution_count": 7,
   "metadata": {},
   "outputs": [],
   "source": [
    "# 위에서 붙여넣기 한 selected image가 들어 있는 경로 (위에서 to_path에 해당하는 곳)\n",
    "img_path = \"C:/Users/chief/FittingroomAnywhere/Dataset/DeepFashion_Tshirt/image\"\n",
    "# 원본 annotation 파일들이 있는 경로\n",
    "from_path = \"C:/Users/chief/FittingroomAnywhere/Segmentation/dataset/DeepFashion2/validation/validation/annos\"\n",
    "# annotation을 옮길 목적지 경로\n",
    "to_path = 'C:/Users/chief/FittingroomAnywhere/Dataset/DeepFashion_Tshirt/annos'\n",
    "\n",
    "# 이미지 파일명을 리스트로 받아와서 저장\n",
    "img_data = os.listdir(img_path)\n",
    "json_data = []\n",
    "\n",
    "for img_file_name in img_data:\n",
    "    json_data.append(img_file_name.replace(\".jpg\", \".json\"))\n",
    "\n",
    "for json_file_name in json_data:\n",
    "    shutil.copy(from_path + '/' + json_file_name, \n",
    "                to_path + '/' + json_file_name)"
   ]
  }
 ],
 "metadata": {
  "kernelspec": {
   "display_name": "Python 3",
   "language": "python",
   "name": "python3"
  },
  "language_info": {
   "codemirror_mode": {
    "name": "ipython",
    "version": 3
   },
   "file_extension": ".py",
   "mimetype": "text/x-python",
   "name": "python",
   "nbconvert_exporter": "python",
   "pygments_lexer": "ipython3",
   "version": "3.6.5"
  }
 },
 "nbformat": 4,
 "nbformat_minor": 2
}
