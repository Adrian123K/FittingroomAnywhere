{
 "cells": [
  {
   "cell_type": "code",
   "execution_count": 5,
   "metadata": {},
   "outputs": [
    {
     "name": "stdout",
     "output_type": "stream",
     "text": [
      "['006547.jpg', '006549.jpg', '006551.jpg', '006552.jpg', '006553.jpg', '006555.jpg', '006556.jpg', '006558.jpg', '006559.jpg', '006562.jpg']\n"
     ]
    }
   ],
   "source": [
    "import json\n",
    "import shutil\n",
    "import os\n",
    "\n",
    "# author: @herbwood (Github) \n",
    "# all_image_path : 전체 validation 이미지가 있는 디렉터리 path\n",
    "# your_image_path : 본인 파트 이미지만 옮기고 싶은 디렉터리 path\n",
    "# 디렉터리가 없으면 다음 줄 주석 풀고 만드셈\n",
    "# os.mkdir(your_image_path) \n",
    "# division_path : 본인 파트 이미지 파일명을 가지고 있는 json 파일 path\n",
    "# name : 본인 성\n",
    "all_image_path = \"C:/Users/chief/FittingroomAnywhere/Segmentation/dataset/DeepFashion2/validation/validation/image\"\n",
    "your_image_path = 'C:/Users/chief/FittingroomAnywhere/Segmentation/dataset/DeepFashion2/validation/validation/image/short_sleeve_shirt'\n",
    "division_path = 'division.json'\n",
    "name = 'Kim'\n",
    "\n",
    "# division.json 파일 읽어들이기\n",
    "with open(division_path) as json_file:\n",
    "    json_data = json.load(json_file)\n",
    "\n",
    "# 본인 파트 이미지 파일명 일부만 확인해보기\n",
    "print(json_data[name][:10])\n",
    "\n",
    "# 본인 파트 이미지 파일을 원하는 디렉터리로 복사하기\n",
    "for data in json_data[name]:\n",
    "    shutil.copy(all_image_path + '/' + data, \n",
    "                your_image_path + '/' + data)"
   ]
  },
  {
   "cell_type": "code",
   "execution_count": 3,
   "metadata": {},
   "outputs": [],
   "source": [
    "import os\n",
    "your_image_path = 'C:/Users/chief/FittingroomAnywhere/Segmentation/dataset/DeepFashion2/validation/validation/image/short_sleeve_shirt'\n",
    "# path에 있는 이미지 파일 이름들 뽑아오기\n",
    "data = os.listdir(your_image_path)\n",
    "\n",
    "import json\n",
    "# json파일로 저장\n",
    "with open('image.json', 'w') as f:\n",
    "    json.dump(data, f)\n"
   ]
  },
  {
   "cell_type": "code",
   "execution_count": null,
   "metadata": {},
   "outputs": [],
   "source": []
  }
 ],
 "metadata": {
  "kernelspec": {
   "display_name": "Python 3",
   "language": "python",
   "name": "python3"
  },
  "language_info": {
   "codemirror_mode": {
    "name": "ipython",
    "version": 3
   },
   "file_extension": ".py",
   "mimetype": "text/x-python",
   "name": "python",
   "nbconvert_exporter": "python",
   "pygments_lexer": "ipython3",
   "version": "3.6.5"
  }
 },
 "nbformat": 4,
 "nbformat_minor": 2
}
