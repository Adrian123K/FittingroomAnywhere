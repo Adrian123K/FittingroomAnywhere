{
 "cells": [
  {
   "cell_type": "markdown",
   "metadata": {},
   "source": [
    "# HOW TO USE THIS FILE\n",
    "\n",
    "티셔츠 부분을 segmentation 하는 코드입니다.<br>\n",
    "구글 코랩에서 사용하는 법을 다룹니다.<br>\n",
    "로컬에서 하려면 path만 바꾸면 되지만 학습이 매우 느립니다.<br>\n",
    "\n",
    "1. 깃허브에서 matterport/Mask_RCNN 를 구글 드라이브에 클론(다운로드)\n",
    "2. Mask_RCNN/samples/ 안에 Tshirt 디렉토리를 넣기\n",
    "3. 이미 훈련된 모델 사용하는 법: 코랩 셀에 아래 명령어 실행<br>\n",
    "4. 직접 훈련하여 사용하는 법: 코랩 셀에 아래 명령어 실행(아래 셀의 Usage 참고)<br>\n",
    "    1. 데이터셋에 대하여 모델 train 하기(pre-traind COCO weights에서부터 시작)\n",
    "    `python3 Tshirt.py train --dataset=/path/to/Tshirt/dataset --weights=coco`\n",
    "    \n",
    "    2. 이미지에 color splash 적용하기\n",
    "    `python3 Tshirt.py splash --weights=/path/to/weights/file.h5 --image=<URL or path to file>`"
   ]
  },
  {
   "cell_type": "markdown",
   "metadata": {},
   "source": [
    "## Usage: \n",
    "import the module (see Jupyter notebooks for examples), or run from the command line as such:\n",
    "\n",
    "    # Train a new model starting from pre-trained COCO weights\n",
    "    python3 Tshirt.py train --dataset=/path/to/Tshirt/dataset --weights=coco\n",
    "\n",
    "    # Resume training a model that you had trained earlier\n",
    "    python3 Tshirt.py train --dataset=/path/to/Tshirt/dataset --weights=last\n",
    "\n",
    "    # Train a new model starting from ImageNet weights\n",
    "    python3 Tshirt.py train --dataset=/path/to/Tshirt/dataset --weights=imagenet\n",
    "\n",
    "    # Apply color splash to an image\n",
    "    python3 Tshirt.py splash --weights=/path/to/weights/file.h5 --image=<URL or path to file>\n",
    "\n",
    "    # Apply color splash to video using the last weights you trained\n",
    "    python3 Tshirt.py splash --weights=last --video=<URL or path to file>"
   ]
  },
  {
   "cell_type": "code",
   "execution_count": null,
   "metadata": {},
   "outputs": [],
   "source": [
    "# 가장 먼저 해야 할 일 : 구글 드라이브 마운트\n",
    "from google.colab import drive\n",
    "drive.mount('/content/drive')"
   ]
  },
  {
   "cell_type": "code",
   "execution_count": null,
   "metadata": {},
   "outputs": [],
   "source": [
    "# train model\n",
    "!python3 '/content/drive/My Drive/Colab Notebooks/Mask_RCNN/samples/Tshirt/Tshirt.py' train --dataset='/content/drive/My Drive/Colab Notebooks/Mask_RCNN/samples/Tshirt/datasets/' --weights=coco"
   ]
  },
  {
   "cell_type": "code",
   "execution_count": null,
   "metadata": {},
   "outputs": [],
   "source": [
    "# apply color splash\n",
    "!python3 '/content/drive/My Drive/Colab Notebooks/Mask_RCNN/samples/Tshirt/Tshirt.py' splash --weights='/content/drive/My Drive/Colab Notebooks/Mask_RCNN/logs/tshirt20190808T0943/mask_rcnn_tshirt_0013.h5' --image='/content/drive/My Drive/Colab Notebooks/Mask_RCNN/samples/Tshirt/test.jpg'"
   ]
  },
  {
   "cell_type": "code",
   "execution_count": null,
   "metadata": {},
   "outputs": [],
   "source": []
  }
 ],
 "metadata": {
  "kernelspec": {
   "display_name": "Python 3",
   "language": "python",
   "name": "python3"
  },
  "language_info": {
   "codemirror_mode": {
    "name": "ipython",
    "version": 3
   },
   "file_extension": ".py",
   "mimetype": "text/x-python",
   "name": "python",
   "nbconvert_exporter": "python",
   "pygments_lexer": "ipython3",
   "version": "3.6.5"
  }
 },
 "nbformat": 4,
 "nbformat_minor": 2
}
