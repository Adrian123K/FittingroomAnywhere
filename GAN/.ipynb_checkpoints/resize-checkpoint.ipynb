{
 "cells": [
  {
   "cell_type": "markdown",
   "metadata": {},
   "source": [
    "### resize images to 256 by 256"
   ]
  },
  {
   "cell_type": "code",
   "execution_count": 1,
   "metadata": {},
   "outputs": [],
   "source": [
    "import os\n",
    "import cv2"
   ]
  },
  {
   "cell_type": "code",
   "execution_count": 6,
   "metadata": {},
   "outputs": [],
   "source": [
    "src = \"./images/selected/\" #\n",
    "dst = \"./images/resized/\" # resized\n",
    "\n",
    "if not os.path.exists(dst):\n",
    "    os.mkdir(dst)\n",
    "\n",
    "for each in os.listdir(src):\n",
    "    img = cv2.imread(os.path.join(src,each))\n",
    "    if img is not None and img.size != 0:\n",
    "        img = cv2.resize(img,(256,256))\n",
    "        cv2.imwrite(os.path.join(dst,each), img)"
   ]
  },
  {
   "cell_type": "markdown",
   "metadata": {},
   "source": [
    "### convert `.png` file to `.jpg` file"
   ]
  },
  {
   "cell_type": "code",
   "execution_count": 4,
   "metadata": {},
   "outputs": [
    {
     "name": "stdout",
     "output_type": "stream",
     "text": [
      "Total 119 images have converted to .jpg format\n"
     ]
    }
   ],
   "source": [
    "from PIL import Image\n",
    "from shutil import copyfile\n",
    "\n",
    "src = \"./images/resized/\" #pokeRGB_black\n",
    "dst = \"./images/retyped/\" # resized\n",
    "\n",
    "if not os.path.exists(dst):\n",
    "    os.mkdir(dst)\n",
    "\n",
    "png_count = 0\n",
    "    \n",
    "for each in os.listdir(src):\n",
    "    if each.split('.')[-1] == 'png':\n",
    "        png_count += 1\n",
    "        img = Image.open(os.path.join(src,each))\n",
    "        rgb_img = img.convert('RGB')\n",
    "        rgb_name = each.split('.')[0] + '.jpg'\n",
    "        rgb_img.save(os.path.join(dst,rgb_name))\n",
    "    else:\n",
    "        copyfile(os.path.join(src,each), os.path.join(dst,each))\n",
    "\n",
    "print(f\"Total {png_count} images have converted to .jpg format\")"
   ]
  },
  {
   "cell_type": "code",
   "execution_count": null,
   "metadata": {},
   "outputs": [],
   "source": []
  }
 ],
 "metadata": {
  "kernelspec": {
   "display_name": "Python 3",
   "language": "python",
   "name": "python3"
  },
  "language_info": {
   "codemirror_mode": {
    "name": "ipython",
    "version": 3
   },
   "file_extension": ".py",
   "mimetype": "text/x-python",
   "name": "python",
   "nbconvert_exporter": "python",
   "pygments_lexer": "ipython3",
   "version": "3.6.5"
  }
 },
 "nbformat": 4,
 "nbformat_minor": 2
}
