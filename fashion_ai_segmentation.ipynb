{
 "cells": [
  {
   "cell_type": "markdown",
   "metadata": {},
   "source": [
    "Fashion-AI-segmentation\n",
    "==================="
   ]
  },
  {
   "cell_type": "markdown",
   "metadata": {},
   "source": [
    "```Source Code``` : https://github.com/anish9/Fashion-AI-segmentation"
   ]
  },
  {
   "cell_type": "markdown",
   "metadata": {},
   "source": [
    "상의와 전체 복장에 대한 segmentation을 진행하는 프로그램\n",
    "--------"
   ]
  },
  {
   "cell_type": "markdown",
   "metadata": {},
   "source": [
    "# 폴더 설명\n",
    "\n",
    "```model``` : weights, model parameters를 저장한 폴더  \n",
    "  \n",
    "```output_instance_Segmentation``` : instance_segmentation.py 결과 저장한 폴더(mask 형태 이미지)  \n",
    "  \n",
    "```result``` : fashion.py 결과를 저장한 폴더(옷만 분리된 이미지)  \n",
    "  \n",
    "```sample``` : 시험용 이미지 데이터를 저장한 폴더  \n",
    "  \n",
    "```semantic-future``` : 원본 이미지, 마스크 이미지, 옷만 분리된 이미지를 예제로 저장한 폴더\n",
    "  \n",
    "  "
   ]
  },
  {
   "cell_type": "markdown",
   "metadata": {},
   "source": [
    "# 파일 설명\n"
   ]
  },
  {
   "cell_type": "markdown",
   "metadata": {},
   "source": [
    "```fashion.py``` : CNN 학습 후 image segmentation 진행한 이미지를 반환   \n",
    "```instance_segmentation.py``` :  마스크 이미지 반환\n",
    "  \n",
    "    \n",
    "       "
   ]
  },
  {
   "cell_type": "markdown",
   "metadata": {},
   "source": [
    "# README 설명"
   ]
  },
  {
   "cell_type": "markdown",
   "metadata": {},
   "source": [
    "#### Image-Processing Resource \n",
    "#### GrabCut   \n",
    "GrabCut 알고리즘은 이미지에서 배경이 아닌 전경에 해당하는 이미지를 추출해 내는 방법입니다. 이미지에서 한번에 전경을 추출해 내는 것이 아닌 사용자와의 상호 작용을 통해 단계적으로 전경을 추출합니다. 이 상호작용은 크게 2가지 단계로 진행되는데, 첫번째는 이미지에서 전경이 포함되는 영역을 사각형으로 대략적으로 지정합니다. 단, 이때 지정한 사각형 영역 안에는 전경이 모두 포함되어 있어야 합니다. 그리고 두번째는 첫번째에서 얻어진 전경 이미지의 내용중 포함되어진 배경 부분은 어디인지, 누락된 전경 부분은 어디인지를 마킹하면 이를 이용해 다시 전경 이미지가 새롭게 추출됩니다.\n",
    "\n",
    "Reference : http://www.gisdeveloper.co.kr/?p=6747"
   ]
  },
  {
   "cell_type": "markdown",
   "metadata": {},
   "source": [
    "### Deep Learning\n",
    "\n",
    "Reference : https://en.wikipedia.org/wiki/Deep_learning  "
   ]
  },
  {
   "cell_type": "markdown",
   "metadata": {},
   "source": [
    "### Package Requirements\n",
    "\n",
    "1.Python\n",
    "\n",
    "2.OpenCV 3.1.0\n",
    "\n",
    "3.Keras with tensorflow backend\n",
    "\n",
    "4.Pandas\n",
    "\n",
    "5.NumPy"
   ]
  },
  {
   "cell_type": "markdown",
   "metadata": {},
   "source": [
    "### Demo (AI-Segmentaion)\n",
    "\n",
    "1.*clone* the Repo to your local pc ensuring that all the package requirements satisfied.<enter>\n",
    "  \n",
    "2.Run the code from the terminal **python fashion.py image1.jpg /Users/demo/save** <enter>\n",
    "  \n",
    "3.argument1 -- *image_name -- image1.jpg*, argument2 -- *save_directory -- /Users/demo/*\n",
    "4.Visualize the results in your save_directory."
   ]
  },
  {
   "cell_type": "markdown",
   "metadata": {},
   "source": [
    "### Reference : https://mylifemystudy.tistory.com/67  "
   ]
  },
  {
   "cell_type": "markdown",
   "metadata": {},
   "source": [
    "# fashion.py"
   ]
  },
  {
   "cell_type": "code",
   "execution_count": null,
   "metadata": {},
   "outputs": [],
   "source": [
    "#josh.anish1@gmail.com\n",
    "#the code has been created with an intention of previewing the entire project\n",
    "#contributions are welcomed!!!\n",
    "import cv2\n",
    "import numpy as np\n",
    "import os\n",
    "import sys\n",
    "import pandas as pd\n",
    "# import matplotlib.pyplot as plt\n",
    "import keras\n",
    "from keras.models import Sequential\n",
    "from keras.layers import Conv2D\n",
    "\n",
    "from keras.layers import MaxPooling2D\n",
    "from keras.layers import Dense\n",
    "\n",
    "from keras.layers import Flatten,Dropout\n",
    "from keras.models import model_from_json\n",
    "\n",
    "# 이미지 파일 경로와 segmented된 이미지를 저장할 경로를 사용자로부터 입력받음\n",
    "img_file = sys.argv[1] \n",
    "directory = sys.argv[2]\n",
    "\n",
    "# 이미지 파일의 클래스를 예측하는 함수\n",
    "def predictor(img_file):\n",
    "    \n",
    "    # 이미지를 읽어들이고 (1,64,64,3) shape으로 변환\n",
    "    img = cv2.imread(img_file)  \n",
    "    resize = cv2.resize(img,(64,64))    \n",
    "    #resize = np.expand_dims(resize,axis=0)   \n",
    "    img_fin = np.reshape(resize,[1,64,64,3]) \n",
    "    \n",
    "    \n",
    "    # model parameter가 저장된 json 파일을 읽어들이고 load한 후\n",
    "    json_file = open('model/binaryfas10.json', 'r')\n",
    "    loaded_model_json = json_file.read()\n",
    "    json_file.close()\n",
    "    \n",
    "    # weights가 저장된 h5 파일을 읽어서 load함\n",
    "    loaded_model = model_from_json(loaded_model_json)\n",
    "    loaded_model.load_weights(\"model/binaryfashion.h5\")\n",
    "    # print(\"Loaded model from disk\")\n",
    "    \n",
    "    # 각 데이터에 대한 클래스 예측\n",
    "    prediction = loaded_model.predict_classes(img_fin)\n",
    "    \n",
    "    # 차원 사이즈가 1인 배열에 대해 차원을 제거하고 스칼라 값으로 바꿔준다\n",
    "    # [[1], [2], [3]] --> [1,2,3]\n",
    "    prediction = np.squeeze(prediction,axis=1)\n",
    "    predict = np.squeeze(prediction,axis=0)\n",
    "    return int(predict)\n",
    "\n",
    "\"\"\"Neural Network Decoding\"\"\"\n",
    "\"\"\" The coordinates are created and trained\"\"\"\n",
    "\"\"\"-----------------\"\"\"\n",
    "# 이미지 크기 지정\n",
    "image_width = 300\n",
    "image_height = 500\n",
    "\n",
    "\n",
    "# 파일명을 문자열 형태로 반환하는 함수\n",
    "def path_file(file):\n",
    "    return str(file)\n",
    "\n",
    "# 이미지 segmentation 진행하는 함수\n",
    "def nn(img_file):\n",
    "    \n",
    "    # 이미지 파일에 대한 클래스를 예측하고 \n",
    "    predict = predictor(img_file)\n",
    "    file = path_file(\"annotation.csv\")\n",
    "    reader = pd.read_csv(file)\n",
    "    print(predict)\n",
    "    \n",
    "    # 이미지 파일을 읽어들이고 위에서 지정한 이미지 크기로 shape 변환\n",
    "    img = cv2.imread(img_file)\n",
    "    img = cv2.resize(img,(image_width,image_height))\n",
    "    #seg = image(image,reader.x1[predict],reader.y1[predict],reader.x2[predict],reader.y2[predict],reader.i[predict])\n",
    "    \n",
    "    # image width, height 크기에  0으로 채운 배열 생성\n",
    "    mask = np.zeros(img.shape[:2],np.uint8)   \n",
    "    \n",
    "    # (1, 65) 크기의 0 배열 생성\n",
    "    bgdModel = np.zeros((1,65),np.float64)\n",
    "    \n",
    "    # (1, 65) 크기의 0 배열 생성 \n",
    "    fgdModel = np.zeros((1,65),np.float64)\n",
    "    \n",
    "    # grabCut할 사각형 영역을 지정\n",
    "    rect = (reader.x1[predict],reader.y1[predict],reader.x2[predict],reader.y2[predict])\n",
    "    \n",
    "    # 인자 살펴보기\n",
    "    # img : 이미지\n",
    "    # mask : 모든 요소가 0인 마스크 이미지\n",
    "    # rect : 사각형 영역\n",
    "    # bgdModel : \n",
    "    # fgdModel : segment하고 싶은 픽셀값이 설정됨(0,2는 배경, 1,3은 segment하고 싶은 이미지 부분)\n",
    "    # reader.i[predict] : 해당 알고리즘의 반복 수행 횟수\n",
    "    # cv2.GC_INIT_WITH_RECT : 사각형을 통한 grabCut일 경우 지정해줌\n",
    "    cv2.grabCut(img,mask,rect,bgdModel,fgdModel,reader.i[predict],cv2.GC_INIT_WITH_RECT)\n",
    "    \n",
    "    # segment하고 싶은 부분만 저장한다(0,2만 골라냄)\n",
    "    # mask값이 0이거나 2일 경우에 0을 반환하고 거짓일 경우 1을 반환한다\n",
    "    mask2 = np.where((mask==2)|(mask==0),0,1).astype('uint8')\n",
    "    \n",
    "    # 원본 이미지에 mask2를 곱해 segmented된 이미지로 변환\n",
    "    img_cut = img*mask2[:,:,np.newaxis]\n",
    "    \n",
    "    # 위에서 지정한 디렉터리에 지정한 파일명으로 저장\n",
    "    new_img_file = img_file.split('/')[-1]\n",
    "    cv2.imwrite(directory+\"/\"+str(img_file),img_cut)\n",
    "\n",
    "nn(img_file)"
   ]
  },
  {
   "cell_type": "markdown",
   "metadata": {},
   "source": [
    "## fashion.py 이해하는 데 도움되는 부분"
   ]
  },
  {
   "cell_type": "code",
   "execution_count": 9,
   "metadata": {},
   "outputs": [
    {
     "data": {
      "image/png": "[encoded data removed]",
      "text/plain": [
       "<Figure size 432x288 with 2 Axes>"
      ]
     },
     "metadata": {
      "needs_background": "light"
     },
     "output_type": "display_data"
    },
    {
     "data": {
      "text/plain": [
       "(<matplotlib.image.AxesImage at 0x1a19899cf60>,\n",
       " <matplotlib.colorbar.Colorbar at 0x1a1989d49b0>,\n",
       " None)"
      ]
     },
     "execution_count": 9,
     "metadata": {},
     "output_type": "execute_result"
    }
   ],
   "source": [
    "import numpy as np\n",
    "import cv2\n",
    "from matplotlib import pyplot as plt\n",
    " \n",
    "img = cv2.imread('sample/inp3.jpg')\n",
    "mask = np.zeros(img.shape[:2],np.uint8)\n",
    " \n",
    "bgdModel = np.zeros((1,65),np.float64)\n",
    "fgdModel = np.zeros((1,65),np.float64)\n",
    " \n",
    "rect = (50,50,450,290)\n",
    "cv2.grabCut(img,mask,rect,bgdModel,fgdModel,5,cv2.GC_INIT_WITH_RECT)\n",
    " \n",
    "mask2 = np.where((mask==2)|(mask==0),0,1).astype('uint8')\n",
    "img = img*mask2[:,:,np.newaxis]\n",
    " \n",
    "plt.imshow(img),plt.colorbar(),plt.show()"
   ]
  },
  {
   "cell_type": "code",
   "execution_count": 3,
   "metadata": {},
   "outputs": [
    {
     "name": "stdout",
     "output_type": "stream",
     "text": [
      "_________________________________________________________________\n",
      "Layer (type)                 Output Shape              Param #   \n",
      "=================================================================\n",
      "conv2d_1 (Conv2D)            (None, 62, 62, 32)        896       \n",
      "_________________________________________________________________\n",
      "max_pooling2d_1 (MaxPooling2 (None, 31, 31, 32)        0         \n",
      "_________________________________________________________________\n",
      "conv2d_2 (Conv2D)            (None, 29, 29, 32)        9248      \n",
      "_________________________________________________________________\n",
      "max_pooling2d_2 (MaxPooling2 (None, 14, 14, 32)        0         \n",
      "_________________________________________________________________\n",
      "flatten_1 (Flatten)          (None, 6272)              0         \n",
      "_________________________________________________________________\n",
      "dense_1 (Dense)              (None, 128)               802944    \n",
      "_________________________________________________________________\n",
      "dense_2 (Dense)              (None, 1)                 129       \n",
      "=================================================================\n",
      "Total params: 813,217\n",
      "Trainable params: 813,217\n",
      "Non-trainable params: 0\n",
      "_________________________________________________________________\n"
     ]
    }
   ],
   "source": [
    "import warnings \n",
    "\n",
    "warnings.filterwarnings('ignore')\n",
    "\n",
    "json_file = open('model/binaryfas10.json', 'r')\n",
    "loaded_model_json = json_file.read()\n",
    "json_file.close()\n",
    "    \n",
    "# weights가 저장된 h5 파일을 읽어서 load함\n",
    "loaded_model = model_from_json(loaded_model_json)\n",
    "loaded_model.load_weights(\"model/binaryfashion.h5\")\n",
    "loaded_model.summary()"
   ]
  },
  {
   "cell_type": "markdown",
   "metadata": {},
   "source": [
    "conv2d : https://www.tensorflow.org/api_docs/python/tf/layers/conv2d  \n",
    "max_pooling2d : https://www.tensorflow.org/api_docs/python/tf/layers/MaxPooling2D  \n",
    "flatten : https://www.tensorflow.org/api_docs/python/tf/layers/flatten  \n",
    "dense : https://www.tensorflow.org/api_docs/python/tf/layers/dense  "
   ]
  },
  {
   "cell_type": "markdown",
   "metadata": {},
   "source": [
    "# instance_segmentation.py\n"
   ]
  },
  {
   "cell_type": "code",
   "execution_count": 20,
   "metadata": {},
   "outputs": [],
   "source": [
    "import cv2\n",
    "import numpy as np\n",
    "import os\n",
    "import sys\n",
    "\n",
    "# 이미지 파일 경로와 변환한 이미지를 저장할 디렉토리 위치 지정\n",
    "img_file = sys.argv[1]\n",
    "save_dir = sys.argv[2]\n",
    "\n",
    "# 이미지 사이즈, 색상값 지정\n",
    "img_size_x,img_size_y = 300,500\n",
    "op_img_x,op_img_y = 1600,2300\n",
    "\n",
    "contrast = 120\n",
    "brightness = 0\n",
    "pixel_factor = 127\n",
    "default_tree = 40\n",
    "create = cv2.GC_INIT_WITH_RECT\n",
    "\n",
    "# \n",
    "def segment(img,x,y,w,z,iteration,savefile,rgbf,rgbb):\n",
    "    imgs = cv2.imread(img)\n",
    "    img = cv2.resize(imgs,(img_size_x,img_size_y))\n",
    "    \n",
    "    mask = np.zeros(img.shape[:2],np.uint8)   \n",
    "    bgdModel = np.zeros((1,65),np.float64)\n",
    "    \n",
    "    fgdModel = np.zeros((1,65),np.float64)\n",
    "    coord = (x,y,w,z)\n",
    "    \n",
    "    cv2.grabCut(img,mask,coord,bgdModel,fgdModel,iteration,create)\n",
    "    mask2 = np.where((mask==2)|(mask==0),0,1).astype('uint8')\n",
    "    img_cut = img*mask2[:,:,np.newaxis]\n",
    "    \n",
    "    # 마스크 이미지 사이즈로 shape 변환 및 데이터 타입 변환\n",
    "    rese = cv2.resize(img_cut,(op_img_x,op_img_y))\n",
    "    img_cont = np.int16(rese) \n",
    "    \n",
    "    # 이미지 색상 변환\n",
    "    img_cont = img_cont*(contrast/1) - contrast + brightness\n",
    "    img_cont = np.clip(img_cont, 0, 255)\n",
    "    opr = np.uint8(img_cont)\n",
    "    op1 = opr[np.where((opr == [255,255,255]).all(axis = 2))] = rgbf\n",
    "    op2 = opr[np.where((opr == [0,0,0]).all(axis = 2))] = rgbb\n",
    "    \n",
    "    cv2.imwrite(save_dir+str(savefile),opr)\n",
    "\n",
    "p1 = 80-5\n",
    "p2 = 10-5\n",
    "p3 = 195-5\n",
    "p4 = 420+80\n",
    "x_po,y_po,w_po,z_po = p1,p2,p3,p4\n",
    "\n",
    "segment(img_file,x_po,y_po,w_po,z_po,default_tree,img_file,[255,0,0],[0,255,0])"
   ]
  },
  {
   "cell_type": "markdown",
   "metadata": {},
   "source": [
    "# 실행 결과\n"
   ]
  },
  {
   "cell_type": "code",
   "execution_count": 30,
   "metadata": {},
   "outputs": [
    {
     "data": {
      "text/plain": [
       "<matplotlib.image.AxesImage at 0x1a199d46588>"
      ]
     },
     "execution_count": 30,
     "metadata": {},
     "output_type": "execute_result"
    },
    {
     "data": {
      "image/png": "[encoded data removed]",
      "text/plain": [
       "<Figure size 432x288 with 1 Axes>"
      ]
     },
     "metadata": {
      "needs_background": "light"
     },
     "output_type": "display_data"
    }
   ],
   "source": [
    "plt.imshow(cv2.imread('result/inp2.jpg'))"
   ]
  },
  {
   "cell_type": "code",
   "execution_count": 31,
   "metadata": {},
   "outputs": [
    {
     "data": {
      "text/plain": [
       "<matplotlib.image.AxesImage at 0x1a199d97160>"
      ]
     },
     "execution_count": 31,
     "metadata": {},
     "output_type": "execute_result"
    },
    {
     "data": {
      "image/png": "[encoded data removed]",
      "text/plain": [
       "<Figure size 432x288 with 1 Axes>"
      ]
     },
     "metadata": {
      "needs_background": "light"
     },
     "output_type": "display_data"
    }
   ],
   "source": [
    "plt.imshow(cv2.imread('output_instance_Segmentation/test1.jpg'))"
   ]
  },
  {
   "cell_type": "markdown",
   "metadata": {},
   "source": [
    "# 한계\n"
   ]
  },
  {
   "cell_type": "code",
   "execution_count": 32,
   "metadata": {},
   "outputs": [
    {
     "data": {
      "text/plain": [
       "<matplotlib.image.AxesImage at 0x1a199de9278>"
      ]
     },
     "execution_count": 32,
     "metadata": {},
     "output_type": "execute_result"
    },
    {
     "data": {
      "image/png": "[encoded data removed]",
      "text/plain": [
       "<Figure size 432x288 with 1 Axes>"
      ]
     },
     "metadata": {
      "needs_background": "light"
     },
     "output_type": "display_data"
    }
   ],
   "source": [
    "plt.imshow(cv2.imread('result/inp9.jpg'))"
   ]
  },
  {
   "cell_type": "markdown",
   "metadata": {},
   "source": [
    "배경 이미지가 복잡할 경우 segmentation이 제대로 진행되지 않음  "
   ]
  },
  {
   "cell_type": "code",
   "execution_count": null,
   "metadata": {},
   "outputs": [],
   "source": []
  }
 ],
 "metadata": {
  "kernelspec": {
   "display_name": "Python 3",
   "language": "python",
   "name": "python3"
  },
  "language_info": {
   "codemirror_mode": {
    "name": "ipython",
    "version": 3
   },
   "file_extension": ".py",
   "mimetype": "text/x-python",
   "name": "python",
   "nbconvert_exporter": "python",
   "pygments_lexer": "ipython3",
   "version": "3.6.8"
  }
 },
 "nbformat": 4,
 "nbformat_minor": 4
}
